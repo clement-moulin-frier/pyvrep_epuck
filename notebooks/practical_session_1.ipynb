{
 "cells": [
  {
   "cell_type": "markdown",
   "metadata": {},
   "source": [
    "# First steps with the simulator"
   ]
  },
  {
   "cell_type": "markdown",
   "metadata": {},
   "source": [
    "If you haven't done it yet, first make a copy of this document on which you will work. To do so, use `File -> Make a copy`. This will open a new tab with a copy of this document. Rename it by clicking on the document title `practical_session_1-Copy1` at the top of the document and enter the new name `YourName_pratical_session_1` (if you are in a group of several students, please indicate all names). Close the previous tab with the original document to prevent messing up with the two versions. **Important note if you are working from a university computer:** it is well possible that the files you store on the computer are not persistent across sessions, which means that if you log out, all the files you have stored will most likely have disappeared next time you will log in. In that case, please **systematically save your work either on a USB stick or by sending it to your own email address before logging out.** Typically, the file you want to save will be the current document, which is located in `Documents/robotics/pyvrep_epuck/notebooks`.\n",
    "\n",
    "Now we are ready to go. In the practical sessions, we will use two modern tools widely used in robotics:\n",
    "\n",
    "- the [V-REP simulator](http://www.coppeliarobotics.com/), that you have previously downloaded and ran,\n",
    "- the [Python programming language](https://docs.python.org), used in an interactive environment called [Jupyter notebooks](https://jupyter.org/), which corresponds to the interactive document you are currently reading.\n",
    "\n",
    "Note that the V-REP simulator has changed its name to CoppeliaSim a few years ago. In the notebooks we still call it V-REP."
   ]
  },
  {
   "cell_type": "markdown",
   "metadata": {},
   "source": [
    "## V-REP simulator"
   ]
  },
  {
   "cell_type": "markdown",
   "metadata": {},
   "source": [
    "V-REP is a robot simulator, i.e. a software allowing the physics simulation of various robots evolving in various environments. A number of robots are available, from humanoids to mobile robots. It is also possible to create your own custom robots by assembling the available motors and sensors according to specific needs. If you have correctly followed [the previous instructions](https://github.com/clement-moulin-frier/pyvrep-epuck), the V-REP graphical interface is already running on your computer."
   ]
  },
  {
   "cell_type": "markdown",
   "metadata": {},
   "source": [
    "The V-REP documentation is [available online](http://www.coppeliarobotics.com/helpFiles/index.html). Take 10 to 15mn to read the page called *User interface* (click on it in the left pane). Try to drag and drop a robot in the scene, as well as various environmental elements (e.g. trees, walls). Navigate into the scene using the scene rotation, zoom and translation buttons. Move the different elements of the scene using the object translation and rotation buttons. \n",
    "\n",
    "**Q1:** Try to reproduce the following scene (more or less):\n",
    "\n",
    "![Example V-REP scene](files/example_vrep_scene.png)\n"
   ]
  },
  {
   "cell_type": "markdown",
   "metadata": {},
   "source": [
    "Start the simulation by clicking on the \"play\"-like button (triangle) above the scene visualization pane. You'll see the robot moving and avoiding the obstacles. This is due to a pre-defined control script which is attached to the robot. If you are curious you can look at this script by clicking on the \"file\"-like icon next to the robot name in the scene hierarchy panel (the programming language used in it is [Lua](http://www.lua.org/about.html)). **However, we will NOT program the robot using such a script during the practical sessions**. We will not program directly in the simulator neither, we will instead program our robots in the Jupyter Notebook (the current document). We will also use another programming language and another robot, this was just a quick example for you to see the simulator at work."
   ]
  },
  {
   "cell_type": "markdown",
   "metadata": {},
   "source": [
    "### Loading a scene"
   ]
  },
  {
   "cell_type": "markdown",
   "metadata": {},
   "source": [
    "V-REP scenes, as the one you've just created, can be saved into a file to be reloaded later on. Let's load the scene we will use in this practical session.\n",
    "\n",
    "First close the previous scene (in V-REP: `File -> Close scene`). No need to save this one. Then open the scene called `epuck-scene-1.ttt` in the directory `Documents/robotics/pyvrep-epuck/vrep_scenes` (in V-REP: `File -> Open scene`). This will load a scene containing a simulated version of an [E-puck](http://www.e-puck.org/) mobile robot in an area bounded by four walls (there are also other elements around but we don't care about them in this session). This robot has a number of actuators and sensors that we will describe soon (for example, the long red lines indicate the field of view of the robot through two proximeter sensors it is equipped with). You can use the scene rotation, translation and zooming buttons to inspect the robot in more detail. However it is not recommended to save the modified scene, since the scene view has been chosen to be convenient for the exercises below. To reload the scene as it was before, use `File -> Open recent scene -> epuck-scene-1.ttt` (choosing `no` in case one asks you to save the previous one). "
   ]
  },
  {
   "cell_type": "markdown",
   "metadata": {},
   "source": [
    "## Controlling the E-puck programmatically"
   ]
  },
  {
   "cell_type": "markdown",
   "metadata": {},
   "source": [
    "We will use the Python language to control the robot, a widely-used programming language which has the advantage to be easy to learn, with modern interactive programming tools. The document you are currently reading is a Jupyter Notebook, which is a web-based interface to the Python interpreter. This means that this document is interactive. Try for example to execute the code below by clicking on it and pressing `Shift + Enter`:"
   ]
  },
  {
   "cell_type": "code",
   "execution_count": null,
   "metadata": {},
   "outputs": [],
   "source": [
    "1 + 1"
   ]
  },
  {
   "cell_type": "markdown",
   "metadata": {},
   "source": [
    "This will print the result of the operation. Of course we can do much more complicated things with this language (you can look at this [short introduction](https://docs.python.org/3.6/tutorial/introduction.html) to learn the very basics). In our practical sessions we will use the Python language for controlling a simulated robot.\n",
    "\n",
    "Let's connect this Jupyter Notebook document to the simulator which is running on your machine. The command below imports the library written for this purpose and creates two objects: a `simulator` object and an `epuck` object. As for the previous cell, click on the code below and press `Shift + Enter` to execute it. In the following, we will not repeat this last sentence, just execute the code in each cell which contains some code (unless not to do it is explicitly specified)."
   ]
  },
  {
   "cell_type": "code",
   "execution_count": 1,
   "metadata": {},
   "outputs": [],
   "source": [
    "from simulator_interface import open_session, close_session\n",
    "simulator, epuck = open_session()"
   ]
  },
  {
   "cell_type": "markdown",
   "metadata": {},
   "source": [
    "Nothing happens, it's normal. Don't worry if you don't understand the meaning of this code, just consider it as a necessary step before being able to communicate with the E-puck robot in V-REP. \n",
    "\n",
    "Once the cell above has been executed (it can take a few seconds), you will observe that the simulator has been started in the V-REP interface, as indicated by the \"play-like\" button which is pressed in the top menu bar of V-REP.\n",
    "\n",
    "It can be the case that at one point during the session, the connection is lost and consequently you can't control the robot anymore. If you experience this problem, follow the steps below.\n",
    "\n",
    "First, close the current session:"
   ]
  },
  {
   "cell_type": "code",
   "execution_count": 14,
   "metadata": {},
   "outputs": [],
   "source": [
    "close_session(simulator)"
   ]
  },
  {
   "cell_type": "markdown",
   "metadata": {},
   "source": [
    "Then restart this notebook by selecting `Kernel -> Restart` in the menu bar, and re-open the session by executing:"
   ]
  },
  {
   "cell_type": "code",
   "execution_count": 10,
   "metadata": {},
   "outputs": [],
   "source": [
    "from simulator_interface import open_session, close_session\n",
    "simulator, epuck = open_session()"
   ]
  },
  {
   "cell_type": "markdown",
   "metadata": {},
   "source": [
    "### Actuators"
   ]
  },
  {
   "cell_type": "markdown",
   "metadata": {},
   "source": [
    "The E-Puck robot has two wheels, allowing its navigation in the environment. Each wheel speed can be controlled individually. Let's for example set the speed of the left wheel to 1 (in radian per second):"
   ]
  },
  {
   "cell_type": "code",
   "execution_count": 11,
   "metadata": {},
   "outputs": [],
   "source": [
    "epuck.right_spd = 1"
   ]
  },
  {
   "cell_type": "markdown",
   "metadata": {},
   "source": [
    "The code line above means *set the velocity of the left wheel to 1 rad/s*. You should see the robot moving in a circle around itself, since the left wheel turns and the right one doesn't. Similarly, you can of course set the speed of the right wheel by using `epuck.right_spd` instead of `epuck.left_spd`. Try it by modifying the cell above. To stop the robot, you have to set both wheel speeds to `0`:"
   ]
  },
  {
   "cell_type": "code",
   "execution_count": 12,
   "metadata": {},
   "outputs": [],
   "source": [
    "epuck.left_spd = 0\n",
    "epuck.right_spd = 0"
   ]
  },
  {
   "cell_type": "markdown",
   "metadata": {},
   "source": [
    "**Q1:** What is the condition for the robot to turn left? to turn right? to move straight forward? to stop?"
   ]
  },
  {
   "cell_type": "markdown",
   "metadata": {},
   "source": [
    "*This is a cell where you can write text instead of code.* Double click on this text and enter your answer here. Once it is done, press `Shift-Enter`."
   ]
  },
  {
   "cell_type": "markdown",
   "metadata": {},
   "source": [
    "**Q2:** How can you make the robot move forward without any rotation? Write the corresponding code in the cell below. "
   ]
  },
  {
   "cell_type": "code",
   "execution_count": 15,
   "metadata": {},
   "outputs": [],
   "source": []
  },
  {
   "cell_type": "markdown",
   "metadata": {},
   "source": [
    "**Q3:** Now write the code making the robot stop:"
   ]
  },
  {
   "cell_type": "code",
   "execution_count": null,
   "metadata": {},
   "outputs": [],
   "source": []
  },
  {
   "cell_type": "markdown",
   "metadata": {},
   "source": [
    "**Q4:** And the code to make it move in a large circle:"
   ]
  },
  {
   "cell_type": "code",
   "execution_count": 36,
   "metadata": {},
   "outputs": [],
   "source": []
  },
  {
   "cell_type": "markdown",
   "metadata": {},
   "source": [
    "Let's try more complex choreographies. A useful function for this is the ability to wait for a given time by using `epuck.wait(x)`, where `x` has to be replaced by the time to wait for, in seconds. Here is an example, where the robot goes forward during 3 seconds, then turns right during 0.5 second, then goes forward again during 2 seconds, and finally stops."
   ]
  },
  {
   "cell_type": "code",
   "execution_count": 4,
   "metadata": {},
   "outputs": [],
   "source": [
    "# Move forward, by setting each wheel speed at the same positive value\n",
    "epuck.left_spd = 3\n",
    "epuck.right_spd = 3\n",
    "\n",
    "# Wait for 3 seconds, keeping moving forward at the same speed\n",
    "epuck.wait(3)\n",
    "\n",
    "# Turn right by setting a positive speed to the left wheel and stoping the right one (null speed)\n",
    "epuck.left_spd = 3\n",
    "epuck.right_spd = 0\n",
    "\n",
    "# Keep turning for 0.5 second\n",
    "epuck.wait(0.5)\n",
    "\n",
    "# Move forward again for 2 seconds\n",
    "epuck.left_spd = 3\n",
    "epuck.right_spd = 3\n",
    "epuck.wait(2)\n",
    "\n",
    "# Stop the robot\n",
    "epuck.left_spd = 0\n",
    "epuck.right_spd = 0"
   ]
  },
  {
   "cell_type": "markdown",
   "metadata": {},
   "source": [
    "A few important remarks regarding the code above:\n",
    "- each line beginning with a `#` symbol corresponds to a comment and will therefore not be executed (it is just to explain verbally what the code does),\n",
    "- when calling `epuck.wait(.)`, the robot keeps moving its wheels at the same speed as previously set, until you set other speed values,\n",
    "- the time in seconds indicated in `epuck.wait(.)` corresponds to the simulation time in V-REP, which is in general different from the \"true\" time from your computer clock (either slower or faster according to your machine performance). The simulation time is indicated in the upper-left corner of the scene visualization panel in V-REP.\n",
    "\n",
    "Now, let's repeat the previous choreography 4 times. In the code below, the first line, `for i in range(4):`, means *repeat 4 times the indented code below* (actually it is a bit more complicated than this, but this out of the scope of the current session).  The indented code is the exact same as just before (only the comments have been removed). You can change the number `4` in the first line by any number `x`, to repeat it `x` times instead of 4."
   ]
  },
  {
   "cell_type": "code",
   "execution_count": 13,
   "metadata": {},
   "outputs": [],
   "source": [
    "for i in range(4):\n",
    "    epuck.left_spd = 3\n",
    "    epuck.right_spd = 3\n",
    "    epuck.wait(3)\n",
    "    epuck.left_spd = 3\n",
    "    epuck.right_spd = 0\n",
    "    epuck.wait(0.5)\n",
    "    epuck.left_spd = 3\n",
    "    epuck.right_spd = 3\n",
    "    epuck.wait(2)\n",
    "    epuck.left_spd = 0\n",
    "    epuck.right_spd = 0"
   ]
  },
  {
   "cell_type": "markdown",
   "metadata": {},
   "source": [
    "**Q5:** By executing the code just above, you will observe that the robot actually only stops at the very end of the choreography, but not between each run of the loop. Copy-paste the code of the last cell above in the cell below and add one line of code so that the robot will stop for 1 second at each run of the loop."
   ]
  },
  {
   "cell_type": "code",
   "execution_count": null,
   "metadata": {
    "collapsed": true
   },
   "outputs": [],
   "source": []
  },
  {
   "cell_type": "markdown",
   "metadata": {},
   "source": [
    "**Q6:** Write the code allowing the robot to move roughly in a \"8\" shape. To do so you'll have to fine tune the waiting times by trial on error. Then make the robot repeat it 6 times."
   ]
  },
  {
   "cell_type": "code",
   "execution_count": 7,
   "metadata": {},
   "outputs": [],
   "source": []
  },
  {
   "cell_type": "markdown",
   "metadata": {},
   "source": [
    "### Sensors"
   ]
  },
  {
   "cell_type": "markdown",
   "metadata": {},
   "source": [
    "The E-puck robot is equipped with proximity sensors, as well as a camera and a light sensor. A proximity sensor indicates the presence of an obstacle, if any, in a particular direction. Eight proximity sensors are pointing in various directions around the robot, as in indicated in this top-view of the robot:\n",
    "\n",
    "![E-Puck interface](files/epuck_interface.png)"
   ]
  },
  {
   "cell_type": "markdown",
   "metadata": {},
   "source": [
    "In the picture above, the robot front direction is towards the bottom of the page (as indicated by the black arrow). This view can be displayed in V-REP by clicking on the E-Puck when the simulation is started. Please don't pay attention to the texts written in the middle (*Follow line* and *Follow friend*): they are two pre-programmed behaviors provided by V-REP but they have been disabled in the context of this course (we'll program our own behaviors instead). \n",
    "\n",
    "The eight proximeters are indicated by the small black square. The values next to the squares are the distances returned by each proximeter (here 0 everywhere, indicating that no obstacle is detected by any sensor). \n",
    "\n",
    "The E-Puck robot we use in this session has been modified a bit with respect to the original version available in V-REP. First, we will only use the two front sensors (the two just below the black arrow in the above figure). Second, we have extended their maximum detection distance so that they can detect objects up to 2 meters (it was only a few centimeters in the original version). Third, we have extended the angle of view of each proximeter, so that they are able to detect objects on a larger area. The field of view of the proximeters is indicated by the red lines in the V-REP interface (90 degrees for each proximeter).\n",
    "\n",
    "Using the commands learned in the previous section, move the front of the robot close to a wall in the scene and stop it. Alternatively, you can simply click on the robot in the V-REP interface and move it manually through a drag-on-drop with the mouse (check the [V-REP doumentation](http://www.coppeliarobotics.com/helpFiles/index.html) if you don't remember how to move objects in a scene)."
   ]
  },
  {
   "cell_type": "code",
   "execution_count": 7,
   "metadata": {},
   "outputs": [],
   "source": []
  },
  {
   "cell_type": "markdown",
   "metadata": {},
   "source": [
    "Whenever a proximeter detects an obstacle, a blinking line is displayed in V-REP showing the corresponding direction. Note that each proximeter detects only the closest object within its own field of view (indicate by the red lines). The current activation of the two front proximeters can be accessed with:"
   ]
  },
  {
   "cell_type": "code",
   "execution_count": null,
   "metadata": {},
   "outputs": [],
   "source": [
    "epuck.prox_activations()"
   ]
  },
  {
   "cell_type": "markdown",
   "metadata": {},
   "source": [
    "This command returns an `array`, i.e. a list of values. Here we see two values: the first one corresponds to the activity of the left proximeter, the second to the activity of the right one. Those values do NOT correspond to distances, but are instead activation values bounded between 0 and 1, where 0 indicates that no obstacle is perceived (i.e. the proximeter doesn't detect any object withing its field of view), and 1 indicates that an object is in contact with the proximeter. In other word, the higher the activation, the closer the object (inversely proportional to the object distance). \n",
    "\n",
    "Make sure that you are able to identify which sensor corresponds to which value (i.e. map the values above to the blinking lines in V-REP). "
   ]
  },
  {
   "cell_type": "markdown",
   "metadata": {},
   "source": [
    "You can store the values returned by `epuck.prox_activations()` in two distinct variables, which will facilitate using them for further computation. If you execute the following command:"
   ]
  },
  {
   "cell_type": "code",
   "execution_count": 5,
   "metadata": {
    "collapsed": true
   },
   "outputs": [],
   "source": [
    "left, right = epuck.prox_activations()"
   ]
  },
  {
   "cell_type": "markdown",
   "metadata": {},
   "source": [
    "Then the variables `left` and `right` will contain the activations of the left and right proximeters, respectively. You can check their values using the `print` instruction:"
   ]
  },
  {
   "cell_type": "code",
   "execution_count": null,
   "metadata": {},
   "outputs": [],
   "source": [
    "print(left)"
   ]
  },
  {
   "cell_type": "code",
   "execution_count": null,
   "metadata": {
    "collapsed": true
   },
   "outputs": [],
   "source": [
    "print(right)"
   ]
  },
  {
   "cell_type": "markdown",
   "metadata": {},
   "source": [
    "**However**, the values in `left` and `right` will not be updated if the proximeter activations change over time. To experience it, move the robot in a different location in the scene where the proximeter activations should be different, and re-execute the `print` commands above. You will observe that the returned values are the same as before, whereas the proximeter activities should be different. In order to refresh the values in the `left` and `right` variables, you need to re-execute the command `left, right = epuck.prox_activations()`:"
   ]
  },
  {
   "cell_type": "code",
   "execution_count": null,
   "metadata": {},
   "outputs": [],
   "source": [
    "left, right = epuck.prox_activations()\n",
    "print(left, right)"
   ]
  },
  {
   "cell_type": "markdown",
   "metadata": {},
   "source": [
    "Now you see that the values have been updated correctly."
   ]
  },
  {
   "cell_type": "markdown",
   "metadata": {},
   "source": [
    "The E-Puck robot is equipped with other sensors in order to sense the proximity of different kind of object (walls vs. food for example), as well as to perceive lines drawn on the floor. We will describe these features in the next practical session."
   ]
  },
  {
   "cell_type": "markdown",
   "metadata": {},
   "source": [
    "**Q7:** To complete this session, write a behavior that connects sensors to motors, so that the robot goes forward at a speed that depends on the summed activity of both proximity sensors. The closer the robot is from an obstacle, the slower it should go (but always going forward, without rotation). Remember that proximeter values have to be refreshed explicitely each time we need to observe them by calling `left, right = epuck.prox_activations()` To do so, use the `for` loop construction we have seen, this time with a large number of iterations. Therefore, the code structure of this behavior will look like:"
   ]
  },
  {
   "cell_type": "code",
   "execution_count": null,
   "metadata": {},
   "outputs": [],
   "source": [
    "# Repeat 1000 times:\n",
    "for i in range(1000):\n",
    "    # Read the proximeter values and store them in the left and right variables\n",
    "    left, right = epuck.prox_activations()\n",
    "    \n",
    "    # Write your code below, which has to set the wheel speeds according to the sum left + right\n",
    "    # Remember to keep your code indented, otherwise it will not be considered as part of the for loop\n",
    "    \n",
    "    \n",
    "    \n",
    "    # Keep the line below at the end of the loop. It waits for 100 milliseconds before starting the next iteration (to avoid overloading you computer)\n",
    "    epuck.wait(0.1)\n",
    "    "
   ]
  },
  {
   "cell_type": "markdown",
   "metadata": {},
   "source": [
    "The code above will take a while to be executed (approximately `1000 * 0.1 = 100` seconds). During this time, you can't execute anything else in this notebook. To stop the execution before it terminates by itself, press the \"stop-like\" button in the top menu bar of this document. \n",
    "\n",
    "In the next practical session, we will see more fancy ways of defining reactive behaviours for the robot. And in the next ones, still more and more fancy stuffs.\n",
    "\n",
    "Before logging out and leaving the class room, **do not forget to save your work** (see the note at the beginning of this notebook) and to send it to Laura and I by email. Close the simulator session by executing: "
   ]
  },
  {
   "cell_type": "code",
   "execution_count": null,
   "metadata": {},
   "outputs": [],
   "source": [
    "close_session(simulator)"
   ]
  },
  {
   "cell_type": "markdown",
   "metadata": {},
   "source": [
    "When you close the V-REP window, do not save the scene when it is asked. In case you want to save a scene you have modified, save it with a different name."
   ]
  }
 ],
 "metadata": {
  "kernelspec": {
   "display_name": "Python 3",
   "language": "python",
   "name": "python3"
  },
  "language_info": {
   "codemirror_mode": {
    "name": "ipython",
    "version": 3
   },
   "file_extension": ".py",
   "mimetype": "text/x-python",
   "name": "python",
   "nbconvert_exporter": "python",
   "pygments_lexer": "ipython3",
   "version": "3.7.4"
  }
 },
 "nbformat": 4,
 "nbformat_minor": 1
}
