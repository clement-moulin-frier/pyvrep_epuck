{
 "cells": [
  {
   "cell_type": "markdown",
   "id": "c6cb6f28-cd04-41bd-b22d-ba55f555e5e2",
   "metadata": {},
   "source": [
    "# Summary of practical_session_1"
   ]
  },
  {
   "cell_type": "markdown",
   "id": "9c4cca37-5b3d-42ff-9b9a-5bfbf6a271a3",
   "metadata": {},
   "source": [
    "Note: We use the [CopelliaSim](https://www.coppeliarobotics.com/) robotic simulator, which was formerly called V-REP. In the text below we use both names interchangeably.\n"
   ]
  },
  {
   "cell_type": "markdown",
   "id": "0fdb5bc1-088f-4c46-868a-34c40f9cc547",
   "metadata": {},
   "source": [
    "Open the scene called `epuck-scene-1.ttt` in the directory `pyvrep-epuck/vrep_scenes` (in V-REP: `File -> Open scene`). This will load a scene containing a simulated version of an [E-puck](http://www.e-puck.org/) mobile robot in an area bounded by four walls (there are also other elements around but we don't care about them in this session). This robot has a number of actuators and sensors that we will describe soon (for example, the long red lines indicate the field of view of the robot through two proximeter sensors it is equipped with). You can use the scene rotation, translation and zooming buttons to inspect the robot in more detail. However it is not recommended to save the modified scene, since the scene view has been chosen to be convenient for the exercises below. To reload the scene as it was before, use `File -> Open recent scene -> epuck-scene-1.ttt` (choosing `no` in case one asks you to save the previous one). "
   ]
  },
  {
   "cell_type": "markdown",
   "id": "7a304a65-4ed5-4bb5-b7fa-249ebf17f29e",
   "metadata": {},
   "source": [
    "Let's connect this Jupyter Notebook document to the simulator which is running on your machine. The command below imports the library written for this purpose and creates two objects: a `simulator` object and an `epuck` object. As for the previous cell, click on the code below and press `Shift + Enter` to execute it. In the following, we will not repeat this last sentence, just execute the code in each cell which contains some code (unless not to do it is explicitly specified)."
   ]
  },
  {
   "cell_type": "code",
   "execution_count": 1,
   "id": "fc6169b7-2ed4-49e1-ad67-8258fb3ef26a",
   "metadata": {
    "tags": []
   },
   "outputs": [],
   "source": [
    "from simulator_interface import open_session, close_session\n",
    "simulator, epuck = open_session()"
   ]
  },
  {
   "cell_type": "markdown",
   "id": "660beab5-a694-4b11-a702-18445254745a",
   "metadata": {},
   "source": [
    "Once the cell above has been executed (it can take a few seconds), you will observe that the simulator has been started in the V-REP interface, as indicated by the \"play-like\" button which is pressed in the top menu bar of V-REP. Note that you should never press the play/pause/stop buttons in the simulator, use pyhon commands in the notebook instead.\n",
    "\n",
    "It can be the case that at one point during the session, the connection is lost and consequently you can't control the robot anymore. If you experience this problem, follow the steps below.\n",
    "\n",
    "First, close the current session:"
   ]
  },
  {
   "cell_type": "code",
   "execution_count": 2,
   "id": "4c59574b-25d2-49a4-9a29-2bf6059b1a15",
   "metadata": {
    "tags": []
   },
   "outputs": [],
   "source": [
    "close_session(simulator)"
   ]
  },
  {
   "cell_type": "markdown",
   "id": "f9bc7980-0970-41f7-82e6-d970ca052e87",
   "metadata": {},
   "source": [
    "Then restart this notebook by selecting `Kernel -> Restart` in the menu bar, and re-open the session by executing:"
   ]
  },
  {
   "cell_type": "code",
   "execution_count": 1,
   "id": "900382b6-08da-46ba-bcd9-d346298b3dc0",
   "metadata": {},
   "outputs": [],
   "source": [
    "from simulator_interface import open_session, close_session\n",
    "simulator, epuck = open_session()"
   ]
  },
  {
   "cell_type": "markdown",
   "id": "0f675fec-2540-4bde-a3ab-cf82cb5f0c1a",
   "metadata": {},
   "source": [
    "## Actuators"
   ]
  },
  {
   "cell_type": "markdown",
   "id": "88aebded-3e45-40a9-b28e-1cfa2cae4619",
   "metadata": {},
   "source": [
    "The E-Puck robot has two wheels, allowing its navigation in the environment. Each wheel speed can be controlled individually. Let's for example set the speed of the left wheel to 1 (in radian per second):"
   ]
  },
  {
   "cell_type": "code",
   "execution_count": 2,
   "id": "9317646d-ecd7-4c0d-9283-84fb984083c0",
   "metadata": {},
   "outputs": [],
   "source": [
    "epuck.right_spd = 1"
   ]
  },
  {
   "cell_type": "markdown",
   "id": "ecaed75e-9cc0-43a1-845c-b452c415e7d4",
   "metadata": {},
   "source": [
    "The code line above means *set the velocity of the left wheel to 1 rad/s*. You should see the robot moving in a circle around itself, since the left wheel turns and the right one doesn't. Similarly, you can of course set the speed of the right wheel by using `epuck.right_spd` instead of `epuck.left_spd`. Try it by modifying the cell above. To stop the robot, you have to set both wheel speeds to `0`:"
   ]
  },
  {
   "cell_type": "code",
   "execution_count": 3,
   "id": "b5a67f70-b738-4905-9e89-1fac21004413",
   "metadata": {},
   "outputs": [],
   "source": [
    "epuck.left_spd = 0\n",
    "epuck.right_spd = 0"
   ]
  },
  {
   "cell_type": "markdown",
   "id": "a8e2429f-7f07-4c5f-9fe8-391b459bd3e2",
   "metadata": {},
   "source": [
    "A shortcut for the cell above is:"
   ]
  },
  {
   "cell_type": "code",
   "execution_count": null,
   "id": "4dd31120-104b-40fc-9eab-fa6ad17259c9",
   "metadata": {},
   "outputs": [],
   "source": [
    "epuck.stop()"
   ]
  },
  {
   "cell_type": "markdown",
   "id": "27e53097-eaa1-4e2a-b0b0-5eca2167bb41",
   "metadata": {},
   "source": [
    "Let's try more complex choreographies. A useful function for this is the ability to wait for a given time by using `epuck.wait(x)`, where `x` has to be replaced by the time to wait for, in seconds. Here is an example, where the robot goes forward during 3 seconds, then turns right during 0.5 second, then goes forward again during 2 seconds, and finally stops."
   ]
  },
  {
   "cell_type": "code",
   "execution_count": 6,
   "id": "e292b3e7-5493-4e6b-9bcb-0425171c2c68",
   "metadata": {
    "tags": []
   },
   "outputs": [],
   "source": [
    "# Move forward, by setting each wheel speed at the same positive value\n",
    "epuck.left_spd = 3\n",
    "epuck.right_spd = 3\n",
    "\n",
    "# Wait for 3 seconds, keeping moving forward at the same speed\n",
    "epuck.wait(3)\n",
    "\n",
    "# Turn right by setting a positive speed to the left wheel and stoping the right one (null speed)\n",
    "epuck.left_spd = 3\n",
    "epuck.right_spd = 0\n",
    "\n",
    "# Keep turning for 0.5 second\n",
    "epuck.wait(0.5)\n",
    "\n",
    "# Move forward again for 2 seconds\n",
    "epuck.left_spd = 3\n",
    "epuck.right_spd = 3\n",
    "epuck.wait(2)\n",
    "\n",
    "# Stop the robot\n",
    "epuck.left_spd = 0\n",
    "epuck.right_spd = 0"
   ]
  },
  {
   "cell_type": "markdown",
   "id": "c7dcfcda-e5bd-4c9e-9f6b-8047f2bcfca8",
   "metadata": {},
   "source": [
    "## Sensors"
   ]
  },
  {
   "cell_type": "markdown",
   "id": "f6462a25-5cc4-4470-82b3-fb6b5a9ad626",
   "metadata": {},
   "source": [
    "We use a modified version of the E-Puck robot, where we only use the two front sensors. Their maximum detection distance is 2 meters. The angle of view of each proximeter is approximately 90°. The field of view of the proximeters is indicated by the red lines in the V-REP interface (90 degrees for each proximeter)."
   ]
  },
  {
   "cell_type": "markdown",
   "id": "a5f852f5-553b-4ae5-9e02-dfc2a828fac2",
   "metadata": {},
   "source": [
    "Whenever a proximeter detects an obstacle, a blinking line is displayed in V-REP showing the corresponding direction. Note that each proximeter detects only the closest object within its own field of view (indicate by the red lines). The current activation of the two front proximeters can be accessed with:"
   ]
  },
  {
   "cell_type": "code",
   "execution_count": 7,
   "id": "41102d19-0ea7-4299-8617-9e417112b286",
   "metadata": {
    "tags": []
   },
   "outputs": [
    {
     "data": {
      "text/plain": [
       "array([0.57508011, 0.39042119])"
      ]
     },
     "execution_count": 7,
     "metadata": {},
     "output_type": "execute_result"
    }
   ],
   "source": [
    "epuck.prox_activations()"
   ]
  },
  {
   "cell_type": "markdown",
   "id": "4d9f7fb7-b8fd-478c-9ff0-359df900d7ef",
   "metadata": {},
   "source": [
    "This command returns a Numpy `array`. Here we see two values: the first one corresponds to the activity of the left proximeter, the second to the activity of the right one. Those values do NOT correspond to distances, but are instead activation values bounded between 0 and 1, where 0 indicates that no obstacle is perceived (i.e. the proximeter doesn't detect any object withing its field of view), and 1 indicates that an object is in contact with the proximeter. In other word, the higher the activation, the closer the object (inversely proportional to the object distance). \n",
    "\n",
    "Make sure that you are able to identify which sensor corresponds to which value (i.e. map the values above to the blinking lines in V-REP). "
   ]
  },
  {
   "cell_type": "markdown",
   "id": "00daf9e3-15f8-44d7-92ad-c66c0942d5a2",
   "metadata": {},
   "source": [
    "You can store the values returned by `epuck.prox_activations()` in two distinct variables, which will facilitate using them for further computation. If you execute the following command:"
   ]
  },
  {
   "cell_type": "code",
   "execution_count": 8,
   "id": "26452029-c4b5-4f04-8a6e-f4032598f3e4",
   "metadata": {
    "tags": []
   },
   "outputs": [],
   "source": [
    "left, right = epuck.prox_activations()"
   ]
  },
  {
   "cell_type": "markdown",
   "id": "5c516540-e61c-430c-87ba-ff47d15782a0",
   "metadata": {},
   "source": [
    "Then the variables `left` and `right` will contain the activations of the left and right proximeters, respectively. You can check their values using the `print` instruction:"
   ]
  },
  {
   "cell_type": "code",
   "execution_count": 11,
   "id": "42587bd6-1ed8-4f97-9892-960baa838855",
   "metadata": {
    "tags": []
   },
   "outputs": [
    {
     "name": "stdout",
     "output_type": "stream",
     "text": [
      "0.5787385117006487\n"
     ]
    }
   ],
   "source": [
    "print(left)"
   ]
  },
  {
   "cell_type": "code",
   "execution_count": 12,
   "id": "cb387d4c-16e7-47a2-9c69-9ff134802c7e",
   "metadata": {
    "tags": []
   },
   "outputs": [
    {
     "name": "stdout",
     "output_type": "stream",
     "text": [
      "0.390162885064143\n"
     ]
    }
   ],
   "source": [
    "print(right)"
   ]
  },
  {
   "cell_type": "markdown",
   "id": "a5940a39-7905-499b-9902-284b09881955",
   "metadata": {},
   "source": [
    "**However**, the values in `left` and `right` will not be updated if the proximeter activations change over time. To experience it, move the robot in a different location in the scene where the proximeter activations should be different, and re-execute the `print` commands above. You will observe that the returned values are the same as before, whereas the proximeter activities should be different. In order to refresh the values in the `left` and `right` variables, you need to re-execute the command `left, right = epuck.prox_activations()`:"
   ]
  },
  {
   "cell_type": "code",
   "execution_count": 13,
   "id": "093e6c79-bb06-4584-b347-a1780b5ea1e3",
   "metadata": {},
   "outputs": [
    {
     "name": "stdout",
     "output_type": "stream",
     "text": [
      "0.8447268925890007 0.5479889134780834\n"
     ]
    }
   ],
   "source": [
    "left, right = epuck.prox_activations()\n",
    "print(left, right)"
   ]
  },
  {
   "cell_type": "markdown",
   "id": "8c61e06c-8e3d-497a-bb26-a501aabaca97",
   "metadata": {},
   "source": [
    "## Naive behavior implementation using a For loop"
   ]
  },
  {
   "cell_type": "markdown",
   "id": "7a81b44c-35b4-4c32-87d0-92d096c5d0f4",
   "metadata": {},
   "source": [
    "The code below implement a behavior that connects sensors to motors, so that the robot goes forward at a speed that depends on the summed activity of both proximity sensors. The closer the robot is from an obstacle, the slower it moves (but always going forward, without rotation). Remember that proximeter values have to be refreshed explicitely each time we need to observe them by calling `left, right = epuck.prox_activations()` To do so, we use a `for` loop."
   ]
  },
  {
   "cell_type": "code",
   "execution_count": 14,
   "id": "90812ffc-5d62-4130-a775-b99754cf1b6d",
   "metadata": {
    "tags": []
   },
   "outputs": [],
   "source": [
    "# Repeat 1000 times the indented code:\n",
    "for i in range(100):\n",
    "    # Read the proximeter values and store them in the \"left\" and \"right\" variables\n",
    "    left, right = epuck.prox_activations()\n",
    "    \n",
    "    # Compute the sum of the values returned by the left and right proximeters.\n",
    "    # This sum will be between 0 and 2 because both \"left\" and \"right\" are between 0 and 1\n",
    "    sum_of_proxs = left + right\n",
    "    \n",
    "    # Compute the activation that will be applied to both wheels. \n",
    "    # The closer the obstacle (i.e. the higher the value returned by the proximeters), the lower the wheel activation should be.\n",
    "    # Note that wheel activation is bounded between 0 and 1\n",
    "    wheel_activation = 1.0 - sum_of_proxs / 2.0\n",
    "    \n",
    "    # Set the activation of both wheels to the value we just have computed\n",
    "    epuck.left_wheel = wheel_activation\n",
    "    epuck.right_wheel = wheel_activation\n",
    "    \n",
    "    # Waits for 100 milliseconds before starting the next iteration (to avoid overloading you computer)\n",
    "    epuck.wait(0.1)"
   ]
  },
  {
   "cell_type": "code",
   "execution_count": 15,
   "id": "4d4e9543-5c11-49ed-a849-b0a3c8e3b06b",
   "metadata": {
    "tags": []
   },
   "outputs": [],
   "source": [
    "epuck.stop()"
   ]
  },
  {
   "cell_type": "markdown",
   "id": "7ead8969-2ace-438d-a882-e13c92951fe9",
   "metadata": {},
   "source": [
    "You can now close this session properly by executing the cell below, and continue with the next session"
   ]
  },
  {
   "cell_type": "code",
   "execution_count": 2,
   "id": "8262e080-9745-4793-9d13-f1128cbc27ef",
   "metadata": {
    "tags": []
   },
   "outputs": [],
   "source": [
    "close_session(simulator)"
   ]
  },
  {
   "cell_type": "markdown",
   "id": "bca47a0a-0554-4284-827e-2febc7e4c196",
   "metadata": {},
   "source": [
    "# Summary of practical_session_2"
   ]
  },
  {
   "cell_type": "markdown",
   "id": "917b0bb0-a48f-4416-9c2f-952498e95a49",
   "metadata": {},
   "source": [
    "Close the previously opened scene (`epuck-scene-1.ttt`) and open `epuck-scene-2.ttt`"
   ]
  },
  {
   "cell_type": "code",
   "execution_count": 10,
   "id": "a703be7c-7a43-457c-b48e-5da987071395",
   "metadata": {},
   "outputs": [],
   "source": [
    "from simulator_interface import open_session, close_session\n",
    "simulator, epuck = open_session()"
   ]
  },
  {
   "cell_type": "markdown",
   "id": "0a95f513-a60d-492a-88a4-2989fee9478b",
   "metadata": {},
   "source": [
    "## Using normalized speed values in actuators"
   ]
  },
  {
   "cell_type": "markdown",
   "id": "53a1a0c7-f908-4360-bd8f-4bd0a06bf9ca",
   "metadata": {},
   "source": [
    "Above we used `epuck.left_spd` and `epuck.right_spd` to set the wheel speeds. We will now be using `epuck.left_wheel` and `epuck.right_wheel` instead. The difference is the following:\n",
    "- When using `epuck.left_spd` and `epuck.right_spd` as in the previous practical session, the values are in radian per second (rad/s). This means that when one executes `epuck.left_speed = 2`, the speed of the left wheel is set to 2 rad/s (corresponding approximately to a complete wheel rotation every 1.5 seconds, since a complete rotation (360º) corresponds to `pi=3.14...` radians.\n",
    "- When using `epuck.left_wheel` and `epuck.right_wheel` as above, the values are normalized. This means that `epuck.left_wheel` expects a value between 0 and 1, where 0 corresponds to no rotation (null speed), and 1 corresponds to the maximum allowed speed (set to 20 rad/s). You can change the maximum speed with:"
   ]
  },
  {
   "cell_type": "code",
   "execution_count": 17,
   "id": "069313f3-c697-4c66-8d67-3021f1fde3c7",
   "metadata": {
    "tags": []
   },
   "outputs": [],
   "source": [
    "epuck.max_speed = 10.\n",
    "# Now the maximum speed is 10 rad/s. \n",
    "# This means that when executing epuck.left_wheel = 1, the left wheel will rotate at the speed of 10 rad/s"
   ]
  },
  {
   "cell_type": "markdown",
   "id": "e470b466-59d4-4403-a8d8-01026220c2bb",
   "metadata": {},
   "source": [
    "Let's actually keep the maximum speed at 10 rad/s for this session."
   ]
  },
  {
   "cell_type": "markdown",
   "id": "c1f50579-7a7d-4473-b486-d55fe3176ba5",
   "metadata": {},
   "source": [
    "## Practical definition of a behavior"
   ]
  },
  {
   "cell_type": "markdown",
   "id": "73d2090f-ef3e-4c36-a260-b275d775cefe",
   "metadata": {},
   "source": [
    "The example behavior defined above illustrates the general structure of a behavior. \n",
    "\n",
    "**Definition:** a behavior consists of a loop repeated at a certain frequency where (1) the values of relevant sensors are read, (2) some computation is performed using these values and (3) commands are sent to the robot motors according to the result of this computation.\n",
    "\n",
    "In the example above, the frequency of the behavior is approximately 10 Hz, i.e. the core of the loop is executed approximately 10 times per second (because we wait for 0.1s at the end of each iteration). This is an approximation because we don't take into account the time needed to execute the instructions occurring before the waiting period. Step (1) corresponds to the reading of the left and right proximeter activations. Step (2) corresponds to the computation of `wheel_activation` according to the sum of the proximeter activations. Finally, Step (3) corresponds to setting the speed of both wheels to the value of `wheel_activation`.\n",
    "\n",
    "Note that the code above will take a while to be executed (approximately `1000 * 0.1 = 100` seconds, since the loop is repeated 1000 times). During this time, you can't execute anything else in this notebook. To stop the execution before it terminates by itself, you have to press the \"stop-like\" button in the top menu bar of this document. \n",
    "\n",
    "This approach has three major drawbacks:\n",
    "- Only one behavior can run at a time.\n",
    "- The behavior has a fixed duration (at one point it will stop)\n",
    "- We can't stop a behavior programmatically (instead we have to press the \"stop-like\" button).\n",
    "\n",
    "To overcome these problems, we provide a more flexible method for defining and executing behaviors. Let's rewrite the behavior above using that method. First make sure the previous code is not still being executed by pressing the \"stop-like\" button in the top menu bar of this document. Now, defining a behavior boils down to defining a function which includes the core of the behavioral loop:"
   ]
  },
  {
   "cell_type": "code",
   "execution_count": 18,
   "id": "5c9e631b-1af1-40b1-ac2f-081ef2760e99",
   "metadata": {
    "tags": []
   },
   "outputs": [],
   "source": [
    "# The code in this cell defines a function called slow_down (first line),\n",
    "# which takes as argument the epuck (first line, in parenthesis),\n",
    "# and returns the left and right speed activation to be applied to the motors (last line)\n",
    "\n",
    "def slow_down(epuck):\n",
    "    # Step (1): read the sensor values\n",
    "    left, right = epuck.prox_activations()\n",
    "    \n",
    "    # Step (2): do some computation\n",
    "    sum_of_proxs = left + right\n",
    "    wheel_activation = 1.0 - sum_of_proxs / 2.0\n",
    "    \n",
    "    # Step (3): return the motor activations\n",
    "    return wheel_activation, wheel_activation"
   ]
  },
  {
   "cell_type": "markdown",
   "id": "ed98f28b-fef8-4c08-ae29-367e2b35402f",
   "metadata": {},
   "source": [
    "The cell above defines a function called `slow_down`. In computer programming, a function is a sequence of instructions that perform a specific task depending on some parameters (called the arguments of the function) and that returns a result. In this sense it is very similar to the mathematical definition of a function, as for example when we write `y = f(x)`, where `f` is the name of the function, `x` is its argument, and `y` is the result.\n",
    "\n",
    "As seen above, the definition of a function in Python starts with the keyword `def`, followed by the arbitrary name we choose for the function (here we called it `slow_down` to reflect the purpose of the behavior defined in it). Then come the arguments of the function in parenthesis (in our case it will be the variable representing the robot, called `epuck`) and finally the symbol `:`. Below the first line, you find the instructions that this function will execute when it will be called. Those instructions need to be intended right with respect to the first line. In this example, the instructions are the exact same as in the core of the previous `for` loop, except that:\n",
    "- we omit the last line `epuck.wait(0.1)` (the frequency at which the behavior will be executed will be set in more rigorous way below),\n",
    "- we don't directly set the motor activations using `epuck.left_wheel` and `epuck.right_wheel`. Instead, we *return* the values of the motor activations in the last line and they will be automatically sent to the robot motors when the behavior will be executed. In the last line, the values after the `return` keyword have to be the left and right speed activation (in this order). Both activations have to be between 0 and 1. (In the `slow_down` behavior above, both activations are the same since we don't want the robot to turn).\n",
    "\n",
    "Note that a function definition, as the one above, does not execute the instructions contained in it, it only defines them so that they can be executed later when the function will be *called*. In our case, we will not explicitly call the function, instead it will be done behind the scene when we will start the behavior on the robot (see below).\n",
    "\n",
    "Once the behavior is defined as a function, we can attach it to the robot by executing:\n"
   ]
  },
  {
   "cell_type": "code",
   "execution_count": 19,
   "id": "532677ca-22a7-4a49-8709-ba096fb0a2a3",
   "metadata": {
    "tags": []
   },
   "outputs": [],
   "source": [
    "epuck.attach_behavior(slow_down, freq=10)"
   ]
  },
  {
   "cell_type": "markdown",
   "id": "c8e7c895-fe0b-47c6-bcd7-a5cf4deadb54",
   "metadata": {},
   "source": [
    "The line above means: attach the behavior defined in the function `slow_down` to the `epuck` robot and set the frequency at which it will be repeated to 10Hz. Note that this instruction does not execute the behavior on the robot, it only informs the robot that the behavior is available to it. \n",
    "\n",
    "In order to actually start the behavior, we have to execute:"
   ]
  },
  {
   "cell_type": "code",
   "execution_count": 20,
   "id": "de9750fd-fdd6-4f89-a933-08418bab3c32",
   "metadata": {
    "tags": []
   },
   "outputs": [
    {
     "name": "stdout",
     "output_type": "stream",
     "text": [
      "Behavior slow_down started\n"
     ]
    }
   ],
   "source": [
    "epuck.start_behavior(slow_down)"
   ]
  },
  {
   "cell_type": "markdown",
   "id": "403607a1-54b3-42b2-8a44-737753a27ad9",
   "metadata": {},
   "source": [
    "You should now see the robot executing the exact same behavior as before (if the robot is already close to an obstacle, move it to a more open space to observe it slowing down).\n",
    "\n",
    "The line above means: start running the previously attached `slow_down` behavior on the `epuck`. Executing the above line will basically do the same thing as executing the `for` loop at the start of this document. Here, the function `slow_down` will be executed at a frequency of 10Hz as set in the previous cell (i.e. 10 times per second), indefinitely. \n",
    "\n",
    "Using this method has the following advantages over the previous method using the `for` loop:\n",
    "- It is more compact to write and it will allow to better structure your code when you will have to deal with multiple behaviors and multiple robots.\n",
    "- It better manages the frequency at which the behavior is run. Now the behavior runs at exactly 10Hz, whereas in the previous method we could only approximate the true frequency.\n",
    "- It is not blocking as the previous method was. This means that you can still use this notebook while the behavior is running on the robot. For example, let's read the proximeter activations while the robot is still executing the `slow_down` behavior:"
   ]
  },
  {
   "cell_type": "code",
   "execution_count": 27,
   "id": "3f8cc212-2c67-4c10-9d7a-4f90a0128fd4",
   "metadata": {
    "tags": []
   },
   "outputs": [
    {
     "data": {
      "text/plain": [
       "array([0.73118397, 0.63270367])"
      ]
     },
     "execution_count": 27,
     "metadata": {},
     "output_type": "execute_result"
    }
   ],
   "source": [
    "epuck.prox_activations()"
   ]
  },
  {
   "cell_type": "markdown",
   "id": "bf476ce0-8687-412c-b985-27405906fa2f",
   "metadata": {},
   "source": [
    "Each time you execute the cell above, you should see the proximeter activation changing because the robot is moving. However, you should avoid setting motor values while a behavior is running since this could conflict with the behavior also setting those values. When a behavior is started, it runs indefinitely until you explicitly tell it to stop. To do so, you have to execute:"
   ]
  },
  {
   "cell_type": "code",
   "execution_count": 28,
   "id": "d4c17564-abe3-4147-a7e0-cc0fcafbebc5",
   "metadata": {
    "tags": []
   },
   "outputs": [
    {
     "name": "stdout",
     "output_type": "stream",
     "text": [
      "Behavior slow_down stopped\n"
     ]
    }
   ],
   "source": [
    "epuck.stop_behavior(slow_down)"
   ]
  },
  {
   "cell_type": "markdown",
   "id": "935b52c4-aefd-4d9a-9a38-2c7c7fda5c9b",
   "metadata": {},
   "source": [
    "Note that the robot will continue moving using the last wheel speeds that were set by the behavior. You can set both wheel speeds to 0 by executing:"
   ]
  },
  {
   "cell_type": "code",
   "execution_count": 29,
   "id": "08d946e1-be71-4270-8d40-7fd75cae2b30",
   "metadata": {},
   "outputs": [],
   "source": [
    "epuck.stop()"
   ]
  },
  {
   "cell_type": "markdown",
   "id": "b6ce6643-644a-4698-ba1a-57989c3c1807",
   "metadata": {},
   "source": [
    "Finally, if you don't want the behavior to be attached to the robot anymore (for example if you want to test another behavior), you can execute:"
   ]
  },
  {
   "cell_type": "code",
   "execution_count": 30,
   "id": "a53b9953-271a-4bc6-bc28-6ea0b464d63a",
   "metadata": {},
   "outputs": [
    {
     "name": "stdout",
     "output_type": "stream",
     "text": [
      "Behavior slow_down detached\n"
     ]
    }
   ],
   "source": [
    "epuck.detach_behavior(slow_down)"
   ]
  },
  {
   "cell_type": "markdown",
   "id": "97610545-c07b-4330-8565-6ee6aa5b30ee",
   "metadata": {},
   "source": [
    "At anytime, you can check what behaviors are attached to the robot with:"
   ]
  },
  {
   "cell_type": "markdown",
   "id": "e547a002-ed07-48f2-b964-bbb4528342fc",
   "metadata": {},
   "source": [
    "At anytime, you can check what behaviors are attached to the robot with:"
   ]
  },
  {
   "cell_type": "code",
   "execution_count": 31,
   "id": "aeab00f8-0cb1-4dbc-8925-04d8d84d8403",
   "metadata": {},
   "outputs": [
    {
     "name": "stdout",
     "output_type": "stream",
     "text": [
      "No behavior attached\n"
     ]
    }
   ],
   "source": [
    "epuck.check_behaviors()"
   ]
  },
  {
   "cell_type": "markdown",
   "id": "6295fade-2572-468a-a41a-1c8929b2a1d7",
   "metadata": {},
   "source": [
    "You can also use this shortcut to detach all behaviors previously attached to a robot:"
   ]
  },
  {
   "cell_type": "code",
   "execution_count": 32,
   "id": "bb4e9125-8aaa-4098-b19a-f6fb750fbda2",
   "metadata": {
    "tags": []
   },
   "outputs": [],
   "source": [
    "epuck.detach_all_behaviors()"
   ]
  },
  {
   "cell_type": "markdown",
   "id": "7dc5cc24-4ed4-4372-be69-9c225238b348",
   "metadata": {},
   "source": [
    "## Implementing the Braitenberg vehicles"
   ]
  },
  {
   "cell_type": "markdown",
   "id": "8185736d-c12d-453f-b007-4f68b05532bc",
   "metadata": {},
   "source": [
    "Let's now practice a bit. Remember the Braitenberg Vehicle examples we have seen in [this slide](https://docs.google.com/presentation/d/1s6ibk_ACiJb9CERJ_8L_b4KFu9d04ZG_htUbb_YSYT4/edit#slide=id.g31e1b425a3_0_0). Those vehicles are very similar to the ePuck robot in the simulator. \n",
    "- It is equipped with two sensors that are activated according to the proximity of a source. With the ePuck, each proximeter sensor returns a value between 0 and 1 that is inversely proportional to the distance from the closest obstacle it perceives (the closer the obstacle, the highest to proximeter activation).\n",
    "- It is equipped with two motors allowing the robot to move. With the ePuck, we can set the activation of each wheel independently with a value between 0 and 1 (where 1 means maximum speed). \n",
    "- A behavior links sensor activations to motor activations. In the Braitenberg vehicles, this is achieved through connections that are either excitatory (the activity of the sensor increases the activity of the motor it is connected to) or inhibitory (the activity of the sensor decreases the activity of the motor it is connected to). In the ePuck, we have seen above that we can define a behavior as a function that (1) read the sensor activities (2) perform some computation and (3) use the result of that computation to set the wheel speed. \n",
    "\n",
    "Therefore, we can implement in the ePuck the various types of vehicle behaviors shown in the slide, where defining excitatory and inhibitory connections will be done through Step (2) above (*perform some computation*). We have actually already done it with the `slow_down` behavior we have defined above.  "
   ]
  },
  {
   "cell_type": "code",
   "execution_count": 11,
   "id": "b5c7f22d-19bd-4dc4-acdb-bbc5addd21df",
   "metadata": {
    "tags": []
   },
   "outputs": [],
   "source": [
    "def fear(epuck):\n",
    "    left, right = epuck.prox_activations()\n",
    "    return left, right"
   ]
  },
  {
   "cell_type": "markdown",
   "id": "b5204f25-77e3-477b-b3bf-e1bb4dc50ccc",
   "metadata": {},
   "source": [
    "That's pretty easy, isn't it? As illustrated in the slide, the `fear` behavior simply consists in the left sensor exciting the left wheel, and the right sensor exciting the right wheel. Therefore, the simplest way of programming this behavior is to directly map the left and right sensor activations to the left and right wheel speed, respectively. This is what is done in the function definition just above.\n",
    "\n",
    "Let's now analyze the properties of this `fear` behavior in more detail. Place the E-Puck in an open area in the V-REP scene, attach and start the `fear` behavior by executing the cell below, and observe how the robot behaves."
   ]
  },
  {
   "cell_type": "code",
   "execution_count": 3,
   "id": "a77c563f-80e6-4032-afd4-5637bde3a03f",
   "metadata": {
    "tags": []
   },
   "outputs": [
    {
     "name": "stdout",
     "output_type": "stream",
     "text": [
      "Behavior fear started\n"
     ]
    }
   ],
   "source": [
    "epuck.detach_all_behaviors()  # Just in case a behavior is still attached\n",
    "\n",
    "epuck.attach_behavior(fear, freq=10)\n",
    "epuck.start_all_behaviors()"
   ]
  },
  {
   "cell_type": "markdown",
   "id": "e97bb5ec-c255-410b-bbf4-d58239f13d98",
   "metadata": {},
   "source": [
    "1. What happens when the activity of both sensors is null? (i.e. no obstacle is detected.) Why?\n",
    "2. How does the robot react when it detects an obstacle? (e.g. a pillar.) Why?\n",
    "3. How does the robot reacts when it approaches a corner?  Why?\n",
    "4. How does the robot reacts when it approaches perpendicularly to a wall?  Why?\n",
    "4. Imagine a small animal equipped with such a behavior in the wild. What would be its evolutionary advantages and drawbacks? (could it escape from a predator? could it collect food? Could it hide itself?)"
   ]
  },
  {
   "cell_type": "markdown",
   "id": "1a6d0425-88ca-4696-964b-99cb375567b5",
   "metadata": {},
   "source": [
    "Program the `aggression` behavior illustrated in [the slide](https://docs.google.com/presentation/d/1s6ibk_ACiJb9CERJ_8L_b4KFu9d04ZG_htUbb_YSYT4/edit#slide=id.g31e1b425a3_0_0), which consists of crossed excitatory connections. "
   ]
  },
  {
   "cell_type": "code",
   "execution_count": 7,
   "id": "0b46e497-662b-4e16-b983-a8846068c628",
   "metadata": {
    "tags": []
   },
   "outputs": [],
   "source": [
    "def aggression(epuck):\n",
    "    sl, sr = epuck.prox_activations()\n",
    "    ml = 1. - sr\n",
    "    mr = 1. - sl \n",
    "    return ml, mr"
   ]
  },
  {
   "cell_type": "code",
   "execution_count": 13,
   "id": "253df9e5-2760-4c1b-86bb-1ee8fa2b5824",
   "metadata": {
    "tags": []
   },
   "outputs": [
    {
     "name": "stdout",
     "output_type": "stream",
     "text": [
      "Behavior obstacle_avoidance started\n"
     ]
    }
   ],
   "source": [
    "epuck.detach_all_behaviors()  # Just in case a behavior is still attached\n",
    "\n",
    "epuck.attach_behavior(aggression, freq=10)\n",
    "epuck.start_all_behaviors()"
   ]
  },
  {
   "cell_type": "code",
   "execution_count": 16,
   "id": "a7d4fbd5-a89a-4a9b-973a-23e120bdf5ac",
   "metadata": {
    "tags": []
   },
   "outputs": [],
   "source": [
    "epuck.max_speed = 5"
   ]
  },
  {
   "cell_type": "markdown",
   "id": "06024bdd-128c-48a6-8c07-a50923cd64cd",
   "metadata": {},
   "source": [
    "Before executing the behavior you have defined in the cell just above, first detach the previous one and immobilize the epuck:"
   ]
  },
  {
   "cell_type": "code",
   "execution_count": 14,
   "id": "37667c6b-698e-470c-961b-c289ee1fc003",
   "metadata": {
    "tags": []
   },
   "outputs": [],
   "source": [
    "epuck.detach_all_behaviors()\n",
    "epuck.stop()"
   ]
  },
  {
   "cell_type": "markdown",
   "id": "9245c144-f1ce-4b91-b558-2fa31a6905ab",
   "metadata": {},
   "source": [
    "Then attach the `aggression` behavior and start it:"
   ]
  },
  {
   "cell_type": "code",
   "execution_count": 17,
   "id": "dd68f2af-b200-4466-b2db-2b4cd013507b",
   "metadata": {
    "tags": []
   },
   "outputs": [
    {
     "name": "stdout",
     "output_type": "stream",
     "text": [
      "Behavior aggression started\n"
     ]
    }
   ],
   "source": [
    "epuck.attach_behavior(aggression, freq=10)\n",
    "epuck.start_all_behaviors()"
   ]
  },
  {
   "cell_type": "markdown",
   "id": "515e3b7f-5e81-4794-b1ec-b745c5a5306e",
   "metadata": {},
   "source": [
    "You can now close this session properly by executing the cell below, and continue with the next session"
   ]
  },
  {
   "cell_type": "code",
   "execution_count": null,
   "id": "88f381c1-474e-4a39-a542-5ecb3d05b5e5",
   "metadata": {
    "tags": []
   },
   "outputs": [],
   "source": [
    "close_session(simulator)"
   ]
  },
  {
   "cell_type": "markdown",
   "id": "bc875cfc-b413-4240-8daf-81c535004568",
   "metadata": {
    "tags": []
   },
   "source": [
    "# Summary of practical_session_3"
   ]
  },
  {
   "cell_type": "markdown",
   "id": "82d46216-993f-4f5b-960c-6dc511589409",
   "metadata": {},
   "source": [
    "Close the previously opened scene (`epuck-scene-2.ttt`) and open `epuck-scene-3.ttt`"
   ]
  },
  {
   "cell_type": "code",
   "execution_count": 1,
   "id": "93cb27d0-71ca-487f-b0b5-e97c11747429",
   "metadata": {
    "tags": []
   },
   "outputs": [],
   "source": [
    "from simulator_interface import open_session, close_session\n",
    "simulator, epuck = open_session()"
   ]
  },
  {
   "cell_type": "markdown",
   "id": "8882321a-b119-44ae-96a6-f0aad8f1aba8",
   "metadata": {},
   "source": [
    "## Selectively detecting scene objects\n",
    "\n",
    "To define a repertoire of interesting behaviors, we need the robot to selectively sense the proximity of different types of objects. For example, we might want to define a behavior for obstacle avoidance and another one for attraction towards mates. The first behavior will require the proximity from walls and pillars, whereas the second will require the proximity from other robots (although there is only one robot in the scene for now, we'll add more at the end of this session). \n",
    "\n",
    "We can filter the result returned by the E-Puck's proximeters by providing the argument `tracked_objects` to the `prox_activations` function:"
   ]
  },
  {
   "cell_type": "code",
   "execution_count": 5,
   "id": "90d2987e-a6f5-41de-81a5-d540dd2c1049",
   "metadata": {
    "tags": []
   },
   "outputs": [
    {
     "name": "stdout",
     "output_type": "stream",
     "text": [
      "0.0 0.7411325505954987\n"
     ]
    }
   ],
   "source": [
    "left, right = epuck.prox_activations(tracked_objects=[\"Cup\"])\n",
    "print(left, right)"
   ]
  },
  {
   "cell_type": "markdown",
   "id": "83091f63-5fea-42e1-bc91-980f4b4e43bb",
   "metadata": {},
   "source": [
    "Executing the cell above will return the proximeter activations only for the `Cup` objects (the kind of trash bins in the V-REP scene). Give it a try by moving a cup in the detection area of the proximiters and re-executing the cell above to observe the change in the returned values. You can also check that the proximeter activations are not modified by other objects such as pillars.\n",
    "\n",
    "The `tracked_objects` argument requires a list of strings (`[\"Cup\"]` in the example above). In Python, a list is a collection of values separated by commas and surrounded by square bracket: `[\"Cup\"]` is therefore a list of only one element (the string `\"Cup\"`), whereas `[\"Cup\", \"ePuck\"]` is a list of two elements (the strings `\"Cup\"` and `\"ePuck\"`). \n",
    "The `tracked_objects` argument, as its name indicates, sets the objects to be tracked by the proximeters. Each object in a V-REP scene has a name, which is shown when you select an object by clicking on it in the interface. You can also inspect the names of all the objects in the `Scene hierarchy` panel on the left (if not visible, you can activate in the `Tools` menu). For example, we see that the cups have the names `Cup`, `Cup0`, `Cup1` etc ..\n",
    "\n",
    "In the cell above, `tracked_objects=[\"Cup\"]` means *only return the proximeter activations of objects having their names starting with `\"Cup\"`*. Since only cups have their names starting with `Cup`, it will return the proximeter activation only for cups, not considering e.g. walls and pillars."
   ]
  },
  {
   "cell_type": "markdown",
   "id": "a9ba08fc-3785-41d8-8d70-8d27147c5029",
   "metadata": {},
   "source": [
    "In order to track several types of objects at the same time, we can pass several strings to `tracked_objects`. For example, if we want to track both cups and trees, we will write:"
   ]
  },
  {
   "cell_type": "code",
   "execution_count": 6,
   "id": "8e7ec11e-adec-49fa-9403-a3e7942b439c",
   "metadata": {
    "tags": []
   },
   "outputs": [
    {
     "name": "stdout",
     "output_type": "stream",
     "text": [
      "0.0 0.7444829427164087\n"
     ]
    }
   ],
   "source": [
    "left, right = epuck.prox_activations(tracked_objects=[\"Cup\", \"Tree\"])\n",
    "print(left, right)"
   ]
  },
  {
   "cell_type": "markdown",
   "id": "fc3f3984-4569-48d2-af9c-064c8e28c7d6",
   "metadata": {},
   "source": [
    "This is because all trees in the scene have their name starting with `Tree` (`Tree`, `Tree#0`, `Tree#1` etc..., as shown in the `Scene hierarchy` panel).\n",
    "\n",
    "Let's define an `obstacle_avoidance` behavior. Obstacles are walls, pillars and trees, but not cups.  The robot has to turn in the direction opposite to the obstacle, with its speed inversely proportional to the proximeter activations (the closer an obstacle, the lower the speed). \n",
    "*Tip:* it is similar to the `shyness` behavior of [Braitenberg vehicles](https://docs.google.com/presentation/d/1s6ibk_ACiJb9CERJ_8L_b4KFu9d04ZG_htUbb_YSYT4/edit#slide=id.g31e1b425a3_0_0)."
   ]
  },
  {
   "cell_type": "code",
   "execution_count": 2,
   "id": "9f903fdc-244d-4d35-ba6c-02c28b99546f",
   "metadata": {
    "tags": []
   },
   "outputs": [],
   "source": [
    "def obstacle_avoidance(epuck):\n",
    "    # Write your code below\n",
    "    left, right = epuck.prox_activations(tracked_objects=['20cm', 'Tree'])\n",
    "    return 1. - right, 1.- left"
   ]
  },
  {
   "cell_type": "markdown",
   "id": "252a30b5-7f57-4556-9b2b-769dc763b10b",
   "metadata": {},
   "source": [
    "Remember that to test a behavior, you first have to detach all behaviors that could still be attached to the E-Puck, then to attach and start the new one, that is:"
   ]
  },
  {
   "cell_type": "code",
   "execution_count": 9,
   "id": "4f53c4ce-3f82-4627-a6f4-9ddeabe43272",
   "metadata": {},
   "outputs": [
    {
     "name": "stdout",
     "output_type": "stream",
     "text": [
      "Behavior obstacle_avoidance started\n"
     ]
    }
   ],
   "source": [
    "epuck.detach_all_behaviors()\n",
    "epuck.attach_behavior(obstacle_avoidance, freq=10)\n",
    "epuck.start_all_behaviors()"
   ]
  },
  {
   "cell_type": "code",
   "execution_count": 12,
   "id": "34abbd12-9351-4427-9e44-96908d15524d",
   "metadata": {
    "tags": []
   },
   "outputs": [],
   "source": [
    "epuck.stop()"
   ]
  },
  {
   "cell_type": "markdown",
   "id": "d54bef30-d5de-4311-a7c0-6d78b819ae8b",
   "metadata": {},
   "source": [
    "## Environmental dynamics"
   ]
  },
  {
   "cell_type": "markdown",
   "id": "906a6cd3-3054-44a6-97c8-65e4ca536985",
   "metadata": {},
   "source": [
    "Until now the environment in which the E-Puck is evolving is quite static: although some objects can be pushed by the robot (e.g. the cups), there is nothing that appears or disappears in the environment. We are now going to see how we can generate food sources appearing at random positions in the environment and disappearing whenever a robot eat them. A food source is modeled as a V-REP `Sphere` object, meaning that it can roll on the floor. Making such spheres to appear at regular time intervals and at random positions in the environment is done with:"
   ]
  },
  {
   "cell_type": "code",
   "execution_count": 3,
   "id": "3d5fb069-3315-486d-877b-1e66b5aba5aa",
   "metadata": {
    "tags": []
   },
   "outputs": [
    {
     "name": "stdout",
     "output_type": "stream",
     "text": [
      "Routine sphere_apparition started\n",
      "Routine eating started\n"
     ]
    }
   ],
   "source": [
    "simulator.start_sphere_apparition(period=10.)"
   ]
  },
  {
   "cell_type": "markdown",
   "id": "b210e7e9-d687-4b9b-b91a-2e1a169ba9a6",
   "metadata": {},
   "source": [
    "where `period` indicates the time interval at which spheres will appear (here every 5 seconds). In order to stop sphere apparition:"
   ]
  },
  {
   "cell_type": "code",
   "execution_count": 20,
   "id": "d359ab6d-6707-473c-8164-383c45f65c89",
   "metadata": {},
   "outputs": [
    {
     "name": "stdout",
     "output_type": "stream",
     "text": [
      "Routine sphere_apparition stopped\n",
      "Routine eating stopped\n"
     ]
    }
   ],
   "source": [
    "simulator.stop_sphere_apparition()"
   ]
  },
  {
   "cell_type": "markdown",
   "id": "8f70f0b5-edcc-4e17-8ef7-3313cdcabee1",
   "metadata": {},
   "source": [
    "We can also specify in which area spheres appear through the `min_pos` and `max_pos` arguments:"
   ]
  },
  {
   "cell_type": "code",
   "execution_count": 76,
   "id": "7d76bf7e-c81c-47c7-b775-77571b36acff",
   "metadata": {},
   "outputs": [
    {
     "name": "stdout",
     "output_type": "stream",
     "text": [
      "Routine sphere_apparition started\n",
      "Routine eating started\n"
     ]
    }
   ],
   "source": [
    "simulator.start_sphere_apparition(period=10., min_pos=[-2, -1, 1], max_pos=[2., 0.5, 2])"
   ]
  },
  {
   "cell_type": "markdown",
   "id": "0007a4e8-f8c9-44cf-94b7-3b4d204fb77f",
   "metadata": {},
   "source": [
    "The cell above will generate spheres at random 3D positions $(x, y, z)$ in the scene with $x\\in[-2, 2]$, $y\\in[-1, 0.5]$ and $z\\in[1, 2]$ (analyze the cell above to understand how the `min_pos` and `max_pos` arguments are converted in $(x, y, z)$ intervals and ask us if it is not clear). You can check how the $x, y, z$ axes are oriented at the bottom-right corner of the V-REP scene (try to rotate the scene while looking at it). When selecting an object, you can check the coordinate of its center in the text located in the top-left corner of the scene (`Last selected object position`). The center of the scene is at $x=0, y=0, z=0$. The floor is contained in (approximately) $x\\in[-2.5, 2.5]$ and $y\\in[-2.5, 2.5]$, with $z=0$ on the surface. "
   ]
  },
  {
   "cell_type": "markdown",
   "id": "7e124842-9e86-4092-8e84-4f63b6ff8202",
   "metadata": {},
   "source": [
    "Whenever the E-Puck is touching a sphere it will \"eat\" it, meaning that the sphere will disappear from the environment. You can see it by manually moving the E-Puck close to a sphere (the sphere should disappear, although this might take some time). Note however that the spheres will disappear only if the sphere apparition is activated (i.e. if you haven't executed `simulator.stop_sphere_apparition()` as the last command: in that case, you will have to re-execute `simulator.start_sphere_apparition(period=5.)` as above).\n",
    "\n",
    "If no E-Puck is eating the spheres, you might end up with a large number of spheres occupying the environment and this could dramatically impair the V-REP performances. In that case, clean the environment by closing and restarting the session as explained at the beginning of the notebook. A good practice to avoid the proliferation of spheres is to increase the period (e.g.`simulator.start_sphere_apparition(period=20.)`) and to stop sphere apparition whenever you don't need it."
   ]
  },
  {
   "cell_type": "markdown",
   "id": "7581f6ea-4604-4867-95a1-3b9882336520",
   "metadata": {},
   "source": [
    "## Combining behaviors"
   ]
  },
  {
   "cell_type": "markdown",
   "id": "9a7a174e-a421-4bbb-854b-99683745c88a",
   "metadata": {},
   "source": [
    "Let's define a behavior allowing the robot to catch food sources, let's call it `foraging`. The robot has to orient itself toward food sources, with a speed proportional to the proximiter activations (the closer the food source, the higher the speed) *Tip 1:* It's similar to the `aggression` behavior. *Tip 2:* Generated spheres have their names starting by \"Sphere\" (you can see it in V-REP in the scene hierarchy panel)."
   ]
  },
  {
   "cell_type": "code",
   "execution_count": 4,
   "id": "a86414b5-c1d9-45d8-a329-70a30ca580ff",
   "metadata": {},
   "outputs": [],
   "source": [
    "def foraging(epuck):\n",
    "    # Write your code below\n",
    "    left, right = epuck.prox_activations(tracked_objects=['Sphere'])\n",
    "    return right, left"
   ]
  },
  {
   "cell_type": "markdown",
   "id": "1b9fc3c3-9b6f-42cd-b893-3625b2eb4ef9",
   "metadata": {},
   "source": [
    "Attach and start the behavior on the E-Puck: "
   ]
  },
  {
   "cell_type": "code",
   "execution_count": 5,
   "id": "80e78e16-328d-4ac0-9f60-b27b5fe3ce4e",
   "metadata": {},
   "outputs": [
    {
     "name": "stdout",
     "output_type": "stream",
     "text": [
      "Behavior obstacle_avoidance started\n",
      "Behavior foraging started\n"
     ]
    }
   ],
   "source": [
    "# First detach previous behaviors that might still be attached to the robot\n",
    "epuck.detach_all_behaviors()\n",
    "\n",
    "# Write the code to attach and start the `foraging` behavior below\n",
    "epuck.attach_behavior(obstacle_avoidance, freq=10.)\n",
    "epuck.attach_behavior(foraging, freq=10.)\n",
    "\n",
    "epuck.start_all_behaviors()\n"
   ]
  },
  {
   "cell_type": "markdown",
   "id": "d11c6c58-0ba5-471e-bc35-382115600209",
   "metadata": {},
   "source": [
    "Whenever a sphere is detected by the proximeters, the robot should go towards it. However, if at one point the proximeters don't detect any sphere, the robot will probably stop (depending on how you have defined the behavior). The only event that could make the robot move again would be a sphere that rolls within the proximeter detection area, which is not very likely to happen (and therefore quite a bad option if the survival of the robot depends on its foraging abilities). A solution to avoid such a blocking situation is to combine the `foraging` behavior with another one that keeps the robot in movement, as it is for example the case of the `obstacle_avoidance` behavior we have defined before. Let's attach and start the `obstacle_avoidance` behavior, but this time without detaching the previously attached `foraging` behavior:"
   ]
  },
  {
   "cell_type": "code",
   "execution_count": null,
   "id": "23a0b9df-fb66-4ccc-a991-1960c25bcf3f",
   "metadata": {
    "tags": []
   },
   "outputs": [],
   "source": [
    "epuck.attach_behavior(obstacle_avoidance, freq=10)\n",
    "epuck.start_behavior(obstacle_avoidance)"
   ]
  },
  {
   "cell_type": "markdown",
   "id": "27ea410f-b784-4e91-a6f9-44ad9743344a",
   "metadata": {},
   "source": [
    "Since we haven't detached the previous behavior, the robot is now executing two behaviors in parallel. This can be checked with:"
   ]
  },
  {
   "cell_type": "code",
   "execution_count": 80,
   "id": "88b31f12-da70-41ce-a77c-571f4849aeb0",
   "metadata": {},
   "outputs": [
    {
     "name": "stdout",
     "output_type": "stream",
     "text": [
      "No behavior attached\n"
     ]
    }
   ],
   "source": [
    "epuck.check_behaviors()"
   ]
  },
  {
   "cell_type": "markdown",
   "id": "f71fff80-3aec-496c-a042-21c82308eca1",
   "metadata": {},
   "source": [
    "which tells us that both behaviors are attached and started. In V-REP, you can see that the robot is now both foraging and avoiding obstacles. For doing so, the motor activation sent to each wheel corresponds to the average of the motor activation returned by each behavior (this averaging is implemented internally, you don't need to worry about it)."
   ]
  },
  {
   "cell_type": "code",
   "execution_count": 17,
   "id": "27a490fd-1020-48df-9633-55bc1718ec3e",
   "metadata": {
    "tags": []
   },
   "outputs": [
    {
     "data": {
      "text/plain": [
       "False"
      ]
     },
     "execution_count": 17,
     "metadata": {},
     "output_type": "execute_result"
    }
   ],
   "source": [
    "epuck.has_eaten()"
   ]
  },
  {
   "cell_type": "code",
   "execution_count": 81,
   "id": "40898895-caad-47ae-bc1f-063fd7f60168",
   "metadata": {
    "tags": []
   },
   "outputs": [],
   "source": [
    "epuck.detach_all_behaviors()"
   ]
  },
  {
   "cell_type": "markdown",
   "id": "9da898b6-7c85-4e22-8667-6ecc317973c3",
   "metadata": {},
   "source": [
    "## Dealing with multiple robots"
   ]
  },
  {
   "cell_type": "markdown",
   "id": "da1c95d0-e9aa-4829-8719-d33fe4773f4d",
   "metadata": {},
   "source": [
    "This section explains how to deal with multiple robots and how to attach different behaviors to them.\n",
    "\n",
    "First close the current session:"
   ]
  },
  {
   "cell_type": "code",
   "execution_count": 6,
   "id": "461ffa0f-ea01-413b-aaac-ec6ebc983f96",
   "metadata": {},
   "outputs": [],
   "source": [
    "close_session(simulator)"
   ]
  },
  {
   "cell_type": "markdown",
   "id": "ce4e8731-166d-4b29-a177-f8d4a47a5994",
   "metadata": {},
   "source": [
    "Then restart the notebook (`Kernel -> Restart`).\n",
    "\n",
    "Select the E-Puck robot by clicking on it in the scene. Copy-paste it, either using the `Edit` menu, or by pressing the usual editing shortcut `Ctrl-C` then `Ctrl-V`. A new E-puck will be placed in the scene at the exact same position as the previous one. Drag and drop this new robot to another position. Now you should see two robots in the scene.\n",
    "\n",
    "Re-open a session, this time requesting the references to two E-Pucks instead of one, by executing:"
   ]
  },
  {
   "cell_type": "code",
   "execution_count": 83,
   "id": "8376a344-ca22-4c63-81a0-653771d5ed5d",
   "metadata": {},
   "outputs": [],
   "source": [
    "from simulator_interface import open_session, close_session\n",
    "\n",
    "simulator, epuck1, epuck2 = open_session(n_epucks=2)"
   ]
  },
  {
   "cell_type": "markdown",
   "id": "bdb78fbc-fbb3-49ea-b749-81a64069c7ee",
   "metadata": {},
   "source": [
    "Now you have access to the two E-Pucks through the variables `epuck1` and `epuck2` (these variables names are arbitrary, you can choose whatever you want, e.g. `predator` and `prey`). You can attach and start behaviors on each E-Puck independently, in the same way as you did before, simply using either the `epuck1` and `epuck2` variables instead of only `epuck` one as before.\n",
    "\n",
    "As an example, let's say we want to attach the `obstacle_avoidance` behavior we have defined above to `epuck1`, and both the `obstacle_avoidance` and the `foraging` behaviors to `epuck2`. \n",
    "Since we have restarted the notebook, you first need to re-execute the cells defining both behaviors above (i.e. the cells starting with `def obstacle_avoidance(epuck):` and `def foraging(epuck):`)."
   ]
  },
  {
   "cell_type": "markdown",
   "id": "38845dab-6387-48c7-8bba-0317418dd839",
   "metadata": {},
   "source": [
    "The code will be:"
   ]
  },
  {
   "cell_type": "code",
   "execution_count": null,
   "id": "01a3f74f-4e20-4189-b920-131c2cc259ce",
   "metadata": {},
   "outputs": [],
   "source": [
    "# As usual, we detach the possibly already running behaviors.\n",
    "# Since we now have two epucks, called `epuck1` and `epuck2`, we have to do it on each of them.\n",
    "epuck1.detach_all_behaviors()\n",
    "epuck1.detach_all_behaviors()\n",
    "\n",
    "# Then we attach the obstacle avoidance behavior to epuck1:\n",
    "epuck1.attach_behavior(obstacle_avoidance, freq=10)\n",
    "\n",
    "# Then we attach both the obstacle avoidance and the foraging behavior to epuck2:\n",
    "epuck2.attach_behavior(obstacle_avoidance, freq=10)\n",
    "epuck2.attach_behavior(foraging, freq=10)\n",
    "\n",
    "# Finally, we start the attached behaviors on each epuck\n",
    "epuck1.start_all_behaviors()  # This will start obstacle_avoidance on epuck1 (because it is the only behavior we have attached to epuck1)\n",
    "epuck2.start_all_behaviors()  # This will start both obstacle_avoidance and foraging on epuck2 (because we have attached both behaviors on epuck2)"
   ]
  },
  {
   "cell_type": "markdown",
   "id": "1438ea99-6a93-48fa-b405-dc703982dfea",
   "metadata": {},
   "source": [
    "Let's implement the `fear` and `aggression` behaviors so that they are directed only toward the other E-Puck, using the `tracked_objects` argument of the `prox_activations` function as we have seen above. Then attach both the `obstacle_avoidance` and the `aggression` behaviors to one E-Puck, and both the `obstacle_avoidance` and the `fear` behaviors on the second. If you did it well, you should observe a simple \"prey-predator\" interaction, where `epuck1` tries to catch `epuck2` and `epuck2` tries to escape from `epuck1`."
   ]
  },
  {
   "cell_type": "code",
   "execution_count": null,
   "id": "845fe567-295f-4538-854a-7d3af3940202",
   "metadata": {},
   "outputs": [],
   "source": [
    "# Your code here"
   ]
  },
  {
   "cell_type": "markdown",
   "id": "86419c7a-98b5-474a-ae0c-6e171070f6fc",
   "metadata": {},
   "source": [
    "You can now close this session properly by executing the cell below, and continue with the next session"
   ]
  },
  {
   "cell_type": "code",
   "execution_count": null,
   "id": "dc423e40-d704-4b74-aeba-c2f9a335cbb4",
   "metadata": {},
   "outputs": [],
   "source": [
    "close_session(simulator)"
   ]
  },
  {
   "cell_type": "markdown",
   "id": "25236e31-5dca-42f1-b10a-0a3dc0d44ef1",
   "metadata": {},
   "source": [
    "# Summary of practical_session_4"
   ]
  },
  {
   "cell_type": "markdown",
   "id": "3b149e74-1c43-46fd-88b0-bf5543e1df16",
   "metadata": {},
   "source": [
    "Close the previously opened scene (`epuck-scene-3.ttt`) and open `epuck-scene-4.ttt`"
   ]
  },
  {
   "cell_type": "code",
   "execution_count": 3,
   "id": "99629c4e-57e1-4b63-b399-2d5f11d9e693",
   "metadata": {},
   "outputs": [],
   "source": [
    "from simulator_interface import open_session, close_session\n",
    "simulator, epuck1, epuck2, epuck3 = open_session(n_epucks=3)"
   ]
  },
  {
   "cell_type": "code",
   "execution_count": 85,
   "id": "7f4a9eba-8720-4029-868d-89480d05a523",
   "metadata": {
    "tags": []
   },
   "outputs": [],
   "source": [
    "def fear(robot):\n",
    "    left, right = robot.prox_activations(tracked_objects=[\"ePuck\"])\n",
    "    left_wheel = left\n",
    "    right_wheel = right\n",
    "    return left_wheel, right_wheel\n",
    "\n",
    "def aggression(robot):\n",
    "    left, right = robot.prox_activations(tracked_objects=[\"ePuck\"])\n",
    "    left_wheel = right\n",
    "    right_wheel = left\n",
    "    return left_wheel, right_wheel\n",
    "\n",
    "def love_cuddly(robot):\n",
    "    left, right = robot.prox_activations(tracked_objects=[\"ePuck\"])\n",
    "    left_wheel = 1 - left\n",
    "    right_wheel = 1 - right   \n",
    "    return left_wheel, right_wheel\n",
    "\n",
    "def love_shy(robot):\n",
    "    left, right = robot.prox_activations(tracked_objects=[\"ePuck\"])\n",
    "    left_wheel = 1 - right\n",
    "    right_wheel = 1 - left   \n",
    "    return left_wheel, right_wheel"
   ]
  },
  {
   "cell_type": "code",
   "execution_count": 86,
   "id": "802e4801-1345-4105-a8b1-833c54631917",
   "metadata": {
    "tags": []
   },
   "outputs": [],
   "source": [
    "def obstacle_avoidance(robot):\n",
    "    left, right = robot.prox_activations(tracked_objects=[\"20cm\", \"Tree\", \"Cup\"])\n",
    "    left_wheel = 1 - right\n",
    "    right_wheel = 1 - left   \n",
    "    return left_wheel, right_wheel"
   ]
  },
  {
   "cell_type": "code",
   "execution_count": 126,
   "id": "de2ceaeb-fcaf-4922-8c40-9150deb32c73",
   "metadata": {},
   "outputs": [
    {
     "name": "stdout",
     "output_type": "stream",
     "text": [
      "Behavior obstacle_avoidance started\n",
      "Behavior obstacle_avoidance started\n"
     ]
    }
   ],
   "source": [
    "for e in simulator.robots:\n",
    "    e.attach_behavior(obstacle_avoidance, freq=10)\n",
    "    e.start_all_behaviors()"
   ]
  },
  {
   "cell_type": "code",
   "execution_count": 155,
   "id": "a095a7b9-9058-43b6-aa66-52b604cf6dd4",
   "metadata": {
    "tags": []
   },
   "outputs": [],
   "source": [
    "for e in simulator.robots:\n",
    "    e.detach_all_behaviors()\n",
    "    e.stop()"
   ]
  },
  {
   "cell_type": "code",
   "execution_count": 154,
   "id": "e55475f0-8b5e-4906-8fd6-10889ffe9112",
   "metadata": {
    "tags": []
   },
   "outputs": [
    {
     "name": "stderr",
     "output_type": "stream",
     "text": [
      "Clipping input data to the valid range for imshow with RGB data ([0..1] for floats or [0..255] for integers).\n"
     ]
    },
    {
     "data": {
      "text/plain": [
       "<matplotlib.image.AxesImage at 0x133d9fe90>"
      ]
     },
     "execution_count": 154,
     "metadata": {},
     "output_type": "execute_result"
    },
    {
     "data": {
      "image/png": "[encoded data removed]",
      "text/plain": [
       "<Figure size 640x480 with 1 Axes>"
      ]
     },
     "metadata": {},
     "output_type": "display_data"
    }
   ],
   "source": [
    "import matplotlib.pyplot as plt\n",
    "\n",
    "plt.imshow(-epuck1.camera_image()[::-1, :, :])"
   ]
  },
  {
   "cell_type": "markdown",
   "id": "e05a4b72-ddd6-49b1-af43-894ef1ca4df8",
   "metadata": {},
   "source": [
    "You can now close this session properly by executing the cell below, and continue with the next session"
   ]
  },
  {
   "cell_type": "code",
   "execution_count": 156,
   "id": "c2f03caa-1fd6-4c11-a02b-ecab758fcd00",
   "metadata": {
    "tags": []
   },
   "outputs": [],
   "source": [
    "close_session(simulator)"
   ]
  },
  {
   "cell_type": "code",
   "execution_count": null,
   "id": "52bfb1ee-1047-4447-95b3-37ae3f16ab4f",
   "metadata": {},
   "outputs": [],
   "source": []
  }
 ],
 "metadata": {
  "kernelspec": {
   "display_name": "Python 3 (ipykernel)",
   "language": "python",
   "name": "python3"
  },
  "language_info": {
   "codemirror_mode": {
    "name": "ipython",
    "version": 3
   },
   "file_extension": ".py",
   "mimetype": "text/x-python",
   "name": "python",
   "nbconvert_exporter": "python",
   "pygments_lexer": "ipython3",
   "version": "3.11.5"
  }
 },
 "nbformat": 4,
 "nbformat_minor": 5
}
